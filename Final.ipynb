{
 "cells": [
  {
   "cell_type": "markdown",
   "id": "b07b54d3",
   "metadata": {},
   "source": [
    "# <center>425 Final<center>"
   ]
  },
  {
   "cell_type": "markdown",
   "id": "167379e3",
   "metadata": {},
   "source": [
    "# <center> Yihan Li 906305806<center>"
   ]
  },
  {
   "cell_type": "code",
   "execution_count": 33,
   "id": "cf7fb0b6",
   "metadata": {},
   "outputs": [],
   "source": [
    "import numpy as np\n",
    "import pandas as pd\n",
    "import matplotlib.pyplot as plt\n",
    "from sklearn.model_selection import train_test_split, GridSearchCV, cross_val_score\n",
    "from sklearn.linear_model import LinearRegression, LogisticRegression, Lasso, Ridge, RidgeCV, LassoCV\n",
    "from sklearn.metrics import mean_squared_error, accuracy_score, precision_score, recall_score, f1_score, confusion_matrix, precision_recall_curve, auc\n",
    "from sklearn.tree import DecisionTreeClassifier\n",
    "from sklearn.ensemble import RandomForestClassifier, BaggingClassifier\n",
    "from imblearn.over_sampling import SMOTENC\n",
    "from sklearn.preprocessing import StandardScaler, PolynomialFeatures\n",
    "from sklearn.model_selection import LeaveOneOut\n",
    "from scipy.optimize import minimize\n",
    "from sklearn.cluster import KMeans\n",
    "from sklearn.metrics import zero_one_loss\n",
    "from sklearn.decomposition import PCA"
   ]
  },
  {
   "cell_type": "code",
   "execution_count": 26,
   "id": "c5ca0c83",
   "metadata": {},
   "outputs": [],
   "source": [
    "from sklearn.datasets import load_breast_cancer\n",
    "data = load_breast_cancer()"
   ]
  },
  {
   "cell_type": "code",
   "execution_count": 27,
   "id": "cc37e79e",
   "metadata": {},
   "outputs": [],
   "source": [
    "X = data.data"
   ]
  },
  {
   "cell_type": "code",
   "execution_count": 28,
   "id": "e38042bc",
   "metadata": {},
   "outputs": [
    {
     "name": "stdout",
     "output_type": "stream",
     "text": [
      "[[1.799e+01 1.038e+01 1.228e+02 ... 2.654e-01 4.601e-01 1.189e-01]\n",
      " [2.057e+01 1.777e+01 1.329e+02 ... 1.860e-01 2.750e-01 8.902e-02]\n",
      " [1.969e+01 2.125e+01 1.300e+02 ... 2.430e-01 3.613e-01 8.758e-02]\n",
      " ...\n",
      " [1.660e+01 2.808e+01 1.083e+02 ... 1.418e-01 2.218e-01 7.820e-02]\n",
      " [2.060e+01 2.933e+01 1.401e+02 ... 2.650e-01 4.087e-01 1.240e-01]\n",
      " [7.760e+00 2.454e+01 4.792e+01 ... 0.000e+00 2.871e-01 7.039e-02]]\n"
     ]
    }
   ],
   "source": [
    "print(X)"
   ]
  },
  {
   "cell_type": "markdown",
   "id": "c232f2bf",
   "metadata": {},
   "source": [
    "## (a) Standardize each feature in the data set"
   ]
  },
  {
   "cell_type": "code",
   "execution_count": 29,
   "id": "4aa7c611",
   "metadata": {},
   "outputs": [],
   "source": [
    "scaler = StandardScaler()\n",
    "X_standardized = scaler.fit_transform(X)"
   ]
  },
  {
   "cell_type": "code",
   "execution_count": 30,
   "id": "fd0df8a5",
   "metadata": {},
   "outputs": [
    {
     "name": "stdout",
     "output_type": "stream",
     "text": [
      "[[ 1.09706398 -2.07333501  1.26993369 ...  2.29607613  2.75062224\n",
      "   1.93701461]\n",
      " [ 1.82982061 -0.35363241  1.68595471 ...  1.0870843  -0.24388967\n",
      "   0.28118999]\n",
      " [ 1.57988811  0.45618695  1.56650313 ...  1.95500035  1.152255\n",
      "   0.20139121]\n",
      " ...\n",
      " [ 0.70228425  2.0455738   0.67267578 ...  0.41406869 -1.10454895\n",
      "  -0.31840916]\n",
      " [ 1.83834103  2.33645719  1.98252415 ...  2.28998549  1.91908301\n",
      "   2.21963528]\n",
      " [-1.80840125  1.22179204 -1.81438851 ... -1.74506282 -0.04813821\n",
      "  -0.75120669]]\n"
     ]
    }
   ],
   "source": [
    "print(X_standardized)"
   ]
  },
  {
   "cell_type": "markdown",
   "id": "37573e1e",
   "metadata": {},
   "source": [
    "## (b) Perform k-means with k = 2 on the full set of features, and on the first 2 principal components only. Compare how well the clusters found by k-means in each of these cases compare to the true targets using sklearn.metrics.zero_one_loss."
   ]
  },
  {
   "cell_type": "code",
   "execution_count": 34,
   "id": "2223f540",
   "metadata": {},
   "outputs": [],
   "source": [
    "kmeans_full = KMeans(n_clusters=2, random_state=42).fit(X_standardized)\n",
    "loss_full = zero_one_loss(data.target, kmeans_full.labels_)\n",
    "n_components = 2\n",
    "pca = PCA(n_components=n_components)\n",
    "X_pca = pca.fit_transform(X_standardized)\n",
    "kmeans_pca = KMeans(n_clusters=2, random_state=42).fit(X_pca)\n",
    "loss_pca = zero_one_loss(data.target, kmeans_pca.labels_)"
   ]
  },
  {
   "cell_type": "code",
   "execution_count": 35,
   "id": "535d0358",
   "metadata": {},
   "outputs": [
    {
     "name": "stdout",
     "output_type": "stream",
     "text": [
      "0.09314586994727592\n"
     ]
    }
   ],
   "source": [
    "print(loss_pca)"
   ]
  },
  {
   "cell_type": "code",
   "execution_count": 60,
   "id": "6aa37174",
   "metadata": {},
   "outputs": [
    {
     "name": "stdout",
     "output_type": "stream",
     "text": [
      "0.08787346221441128\n"
     ]
    }
   ],
   "source": [
    "print(loss_full)"
   ]
  },
  {
   "cell_type": "markdown",
   "id": "5641f248",
   "metadata": {},
   "source": [
    "## (c) Allocate 20% of the data to the testing set and the rest to the training set using sklearn.model_selection.train_test_split."
   ]
  },
  {
   "cell_type": "code",
   "execution_count": 36,
   "id": "9228fc28",
   "metadata": {},
   "outputs": [],
   "source": [
    "X_train, X_test, y_train, y_test = train_test_split(X_standardized, data.target, test_size=0.2, random_state=42)"
   ]
  },
  {
   "cell_type": "markdown",
   "id": "c2b82fe5",
   "metadata": {},
   "source": [
    "## (d) Use sklearn.linear_model.LogisticRegression to fit the logistic regression on the training set. Report the misclassification rate and the F1 score."
   ]
  },
  {
   "cell_type": "code",
   "execution_count": 37,
   "id": "f02cbfd6",
   "metadata": {},
   "outputs": [],
   "source": [
    "log_reg = LogisticRegression(random_state=42)\n",
    "log_reg.fit(X_train, y_train)\n",
    "y_pred = log_reg.predict(X_test)\n",
    "misclassification_rate = 1 - accuracy_score(y_test, y_pred)\n",
    "f1 = f1_score(y_test, y_pred)"
   ]
  },
  {
   "cell_type": "code",
   "execution_count": 46,
   "id": "6759ac57",
   "metadata": {},
   "outputs": [
    {
     "name": "stdout",
     "output_type": "stream",
     "text": [
      "Misclassification_rate: 0.02631578947368418\n"
     ]
    }
   ],
   "source": [
    "print('Misclassification_rate:',misclassification_rate)"
   ]
  },
  {
   "cell_type": "code",
   "execution_count": 45,
   "id": "85051f1e",
   "metadata": {},
   "outputs": [
    {
     "name": "stdout",
     "output_type": "stream",
     "text": [
      "F1 score: 0.9790209790209791\n"
     ]
    }
   ],
   "source": [
    "print('F1 score:',f1)"
   ]
  },
  {
   "cell_type": "markdown",
   "id": "73697595",
   "metadata": {},
   "source": [
    "## (e) Use sklearn.model_selection.GridSearchCV to fit a random forest of 100 trees on the training set with the maximal tree depth chosen by cross-validation over the range max_depth∈ {10, 15, 20, ... , 55, 60}. Report the misclassification rate and the F1 score."
   ]
  },
  {
   "cell_type": "code",
   "execution_count": 55,
   "id": "4ea56703",
   "metadata": {},
   "outputs": [],
   "source": [
    "param_grid = {'max_depth': list(range(10, 61, 5))}\n",
    "grid_search = GridSearchCV(RandomForestClassifier(n_estimators=100, random_state=42), param_grid, cv=5)\n",
    "grid_search.fit(X_train, y_train)\n",
    "best = grid_search.best_estimator_\n",
    "y_pred = best.predict(X_test)\n",
    "misclassification_rate = 1 - accuracy_score(y_test, y_pred)\n",
    "f1 = f1_score(y_test, y_pred)"
   ]
  },
  {
   "cell_type": "code",
   "execution_count": 57,
   "id": "849546a7",
   "metadata": {},
   "outputs": [
    {
     "name": "stdout",
     "output_type": "stream",
     "text": [
      "Misclassification_rate: 0.03508771929824561\n"
     ]
    }
   ],
   "source": [
    "print('Misclassification_rate:',misclassification_rate)"
   ]
  },
  {
   "cell_type": "code",
   "execution_count": 58,
   "id": "1ead4a52",
   "metadata": {},
   "outputs": [
    {
     "name": "stdout",
     "output_type": "stream",
     "text": [
      "F1 score: 0.9722222222222222\n"
     ]
    }
   ],
   "source": [
    "print('F1 score:',f1)"
   ]
  },
  {
   "cell_type": "markdown",
   "id": "66909e08",
   "metadata": {},
   "source": [
    "# <center>Thanks for Reading<center>"
   ]
  }
 ],
 "metadata": {
  "kernelspec": {
   "display_name": "Python 3 (ipykernel)",
   "language": "python",
   "name": "python3"
  },
  "language_info": {
   "codemirror_mode": {
    "name": "ipython",
    "version": 3
   },
   "file_extension": ".py",
   "mimetype": "text/x-python",
   "name": "python",
   "nbconvert_exporter": "python",
   "pygments_lexer": "ipython3",
   "version": "3.11.4"
  }
 },
 "nbformat": 4,
 "nbformat_minor": 5
}
